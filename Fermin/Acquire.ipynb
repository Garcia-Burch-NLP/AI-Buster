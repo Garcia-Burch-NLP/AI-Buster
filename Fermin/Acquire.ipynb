{
 "cells": [
  {
   "cell_type": "markdown",
   "id": "0905354c-9531-4477-a5ca-6307d261d690",
   "metadata": {},
   "source": [
    "# Acquire:\n",
    "\n",
    "The purpose of this this notebook is to get a centralized starting point on the data we are using and underline methodolgies we will be using."
   ]
  },
  {
   "cell_type": "code",
   "execution_count": 1,
   "id": "aeb42708-73e3-452c-8da7-63efc29a3f07",
   "metadata": {},
   "outputs": [],
   "source": [
    "import pandas as pd \n",
    "import numpy as np"
   ]
  },
  {
   "cell_type": "code",
   "execution_count": 2,
   "id": "a2e92194-da6e-4a31-bc9e-1a364c2d9832",
   "metadata": {},
   "outputs": [],
   "source": [
    "data = pd.read_csv('./DATA/Train Data/train_essays.csv')"
   ]
  },
  {
   "cell_type": "code",
   "execution_count": 3,
   "id": "7b59f0c8-60c9-459d-a477-33f85453eee4",
   "metadata": {},
   "outputs": [],
   "source": [
    "external_data = pd.read_csv('./DATA/External Kaggle database/daigt_external_dataset/daigt_external_dataset.csv')"
   ]
  },
  {
   "cell_type": "code",
   "execution_count": 4,
   "id": "65f78188-dd44-46e2-9dc4-e898efd406ae",
   "metadata": {},
   "outputs": [
    {
     "data": {
      "text/html": [
       "<div>\n",
       "<style scoped>\n",
       "    .dataframe tbody tr th:only-of-type {\n",
       "        vertical-align: middle;\n",
       "    }\n",
       "\n",
       "    .dataframe tbody tr th {\n",
       "        vertical-align: top;\n",
       "    }\n",
       "\n",
       "    .dataframe thead th {\n",
       "        text-align: right;\n",
       "    }\n",
       "</style>\n",
       "<table border=\"1\" class=\"dataframe\">\n",
       "  <thead>\n",
       "    <tr style=\"text-align: right;\">\n",
       "      <th></th>\n",
       "      <th>id</th>\n",
       "      <th>prompt_id</th>\n",
       "      <th>text</th>\n",
       "      <th>generated</th>\n",
       "    </tr>\n",
       "  </thead>\n",
       "  <tbody>\n",
       "    <tr>\n",
       "      <th>0</th>\n",
       "      <td>0059830c</td>\n",
       "      <td>0</td>\n",
       "      <td>Cars. Cars have been around since they became ...</td>\n",
       "      <td>0</td>\n",
       "    </tr>\n",
       "    <tr>\n",
       "      <th>1</th>\n",
       "      <td>005db917</td>\n",
       "      <td>0</td>\n",
       "      <td>Transportation is a large necessity in most co...</td>\n",
       "      <td>0</td>\n",
       "    </tr>\n",
       "  </tbody>\n",
       "</table>\n",
       "</div>"
      ],
      "text/plain": [
       "         id  prompt_id                                               text  \\\n",
       "0  0059830c          0  Cars. Cars have been around since they became ...   \n",
       "1  005db917          0  Transportation is a large necessity in most co...   \n",
       "\n",
       "   generated  \n",
       "0          0  \n",
       "1          0  "
      ]
     },
     "execution_count": 4,
     "metadata": {},
     "output_type": "execute_result"
    }
   ],
   "source": [
    "data.head(2)"
   ]
  },
  {
   "cell_type": "markdown",
   "id": "14a0dc84-bee9-402a-aad3-b2fddf868a11",
   "metadata": {},
   "source": [
    "## External Dataset"
   ]
  },
  {
   "cell_type": "markdown",
   "id": "e8602f4a-98b3-4dc5-8552-f1b81db6cf06",
   "metadata": {},
   "source": [
    "Dataset Description:\n",
    "\n",
    "`id`: unique identifier for each text. <br/>\n",
    "`text`: extracted text from FeedBack Prize 3 competition. Can be used as student text. <br/>\n",
    "`instructions`: the instruction for ChatGPT to generate the text.<br/>\n",
    "`source_text`: AI generated text. <br/>\n"
   ]
  },
  {
   "cell_type": "code",
   "execution_count": 5,
   "id": "d93f4f74-9965-4328-8e0b-59ddc684f5e7",
   "metadata": {},
   "outputs": [
    {
     "data": {
      "text/html": [
       "<div>\n",
       "<style scoped>\n",
       "    .dataframe tbody tr th:only-of-type {\n",
       "        vertical-align: middle;\n",
       "    }\n",
       "\n",
       "    .dataframe tbody tr th {\n",
       "        vertical-align: top;\n",
       "    }\n",
       "\n",
       "    .dataframe thead th {\n",
       "        text-align: right;\n",
       "    }\n",
       "</style>\n",
       "<table border=\"1\" class=\"dataframe\">\n",
       "  <thead>\n",
       "    <tr style=\"text-align: right;\">\n",
       "      <th></th>\n",
       "      <th>id</th>\n",
       "      <th>prompt_id</th>\n",
       "      <th>text</th>\n",
       "      <th>generated</th>\n",
       "    </tr>\n",
       "  </thead>\n",
       "  <tbody>\n",
       "    <tr>\n",
       "      <th>0</th>\n",
       "      <td>0059830c</td>\n",
       "      <td>0</td>\n",
       "      <td>Cars. Cars have been around since they became ...</td>\n",
       "      <td>0</td>\n",
       "    </tr>\n",
       "    <tr>\n",
       "      <th>1</th>\n",
       "      <td>005db917</td>\n",
       "      <td>0</td>\n",
       "      <td>Transportation is a large necessity in most co...</td>\n",
       "      <td>0</td>\n",
       "    </tr>\n",
       "  </tbody>\n",
       "</table>\n",
       "</div>"
      ],
      "text/plain": [
       "         id  prompt_id                                               text  \\\n",
       "0  0059830c          0  Cars. Cars have been around since they became ...   \n",
       "1  005db917          0  Transportation is a large necessity in most co...   \n",
       "\n",
       "   generated  \n",
       "0          0  \n",
       "1          0  "
      ]
     },
     "execution_count": 5,
     "metadata": {},
     "output_type": "execute_result"
    }
   ],
   "source": [
    "data.head(2)"
   ]
  },
  {
   "cell_type": "code",
   "execution_count": 6,
   "id": "65f93605-381d-40c3-a45a-6d52b1a3672d",
   "metadata": {},
   "outputs": [
    {
     "data": {
      "text/html": [
       "<div>\n",
       "<style scoped>\n",
       "    .dataframe tbody tr th:only-of-type {\n",
       "        vertical-align: middle;\n",
       "    }\n",
       "\n",
       "    .dataframe tbody tr th {\n",
       "        vertical-align: top;\n",
       "    }\n",
       "\n",
       "    .dataframe thead th {\n",
       "        text-align: right;\n",
       "    }\n",
       "</style>\n",
       "<table border=\"1\" class=\"dataframe\">\n",
       "  <thead>\n",
       "    <tr style=\"text-align: right;\">\n",
       "      <th></th>\n",
       "      <th>id</th>\n",
       "      <th>text</th>\n",
       "      <th>instructions</th>\n",
       "      <th>source_text</th>\n",
       "    </tr>\n",
       "  </thead>\n",
       "  <tbody>\n",
       "    <tr>\n",
       "      <th>0</th>\n",
       "      <td>6060D28C05B6</td>\n",
       "      <td>Some schools in United States ofter classes fr...</td>\n",
       "      <td>\\nTask: Write a persuasive essay on whether or...</td>\n",
       "      <td>\\nWhen considering the pros and cons of attend...</td>\n",
       "    </tr>\n",
       "    <tr>\n",
       "      <th>1</th>\n",
       "      <td>60623DB5DE7A</td>\n",
       "      <td>Four-day work week, a remarkable idea to conse...</td>\n",
       "      <td>\\nTask: Research the advantages and disadvanta...</td>\n",
       "      <td>\\nOne of the primary arguments for implementin...</td>\n",
       "    </tr>\n",
       "  </tbody>\n",
       "</table>\n",
       "</div>"
      ],
      "text/plain": [
       "             id                                               text  \\\n",
       "0  6060D28C05B6  Some schools in United States ofter classes fr...   \n",
       "1  60623DB5DE7A  Four-day work week, a remarkable idea to conse...   \n",
       "\n",
       "                                        instructions  \\\n",
       "0  \\nTask: Write a persuasive essay on whether or...   \n",
       "1  \\nTask: Research the advantages and disadvanta...   \n",
       "\n",
       "                                         source_text  \n",
       "0  \\nWhen considering the pros and cons of attend...  \n",
       "1  \\nOne of the primary arguments for implementin...  "
      ]
     },
     "execution_count": 6,
     "metadata": {},
     "output_type": "execute_result"
    }
   ],
   "source": [
    "external_data.head(2)"
   ]
  },
  {
   "cell_type": "markdown",
   "id": "aa0a5952-d91b-43af-a12a-f867a968c7ef",
   "metadata": {},
   "source": [
    "## Transforming our external data to match our working data's format\n",
    "\n",
    "To accomplish this we must perform the following:\n",
    "\n",
    "* We must add the following columns:\n",
    "  - generated column to indicate it is an AI generated response.\n",
    "  - Create a prompt ID for external data.\n",
    "\n",
    "* combine the two data sets and patch the prompts with the orgininal prompt dataset. "
   ]
  },
  {
   "cell_type": "code",
   "execution_count": 7,
   "id": "72efd768-b802-4267-b207-811960f4dbb5",
   "metadata": {},
   "outputs": [],
   "source": [
    "external_data['generated'] = 1"
   ]
  },
  {
   "cell_type": "code",
   "execution_count": 11,
   "id": "a9707183-754f-4ee6-977f-9bd0c4f0c85b",
   "metadata": {},
   "outputs": [],
   "source": [
    "# Create the prompt id continuing from the dataset provided.\n",
    "external_data['prompt_id'] = np.arange(3,(len(external_data) + 3))\n"
   ]
  },
  {
   "cell_type": "code",
   "execution_count": 12,
   "id": "2235be0c-a728-40b6-b636-cfc7f5624723",
   "metadata": {},
   "outputs": [],
   "source": [
    "# Isolate the features we plan on merging on\n",
    "\n",
    "train_data_from_external = external_data[['id','prompt_id','source_text', 'generated']].copy()"
   ]
  },
  {
   "cell_type": "code",
   "execution_count": 13,
   "id": "00363b66-22bd-4a7f-86b0-01d7f495ada5",
   "metadata": {},
   "outputs": [],
   "source": [
    "# rename the source_text to be text.\n",
    "train_data_from_external.rename(columns= {'source_text': 'text'}, inplace=True)"
   ]
  },
  {
   "cell_type": "code",
   "execution_count": 14,
   "id": "3a205009-aa83-424c-a3b8-f0108572e47c",
   "metadata": {},
   "outputs": [],
   "source": [
    "# Remove the next line marker in the text.\n",
    "train_data_from_external.text.replace('\\n', '', regex= True, inplace=True)"
   ]
  },
  {
   "cell_type": "code",
   "execution_count": 25,
   "id": "a0d49c24-b392-4a51-9ffa-7daea0af57c6",
   "metadata": {},
   "outputs": [],
   "source": [
    "combined_datasets = pd.concat([data, train_data_from_external]).sample(frac=1)"
   ]
  },
  {
   "cell_type": "code",
   "execution_count": 41,
   "id": "1fed29f7-c918-42e2-a8ea-4577c852b0d2",
   "metadata": {},
   "outputs": [
    {
     "data": {
      "text/html": [
       "<div>\n",
       "<style scoped>\n",
       "    .dataframe tbody tr th:only-of-type {\n",
       "        vertical-align: middle;\n",
       "    }\n",
       "\n",
       "    .dataframe tbody tr th {\n",
       "        vertical-align: top;\n",
       "    }\n",
       "\n",
       "    .dataframe thead th {\n",
       "        text-align: right;\n",
       "    }\n",
       "</style>\n",
       "<table border=\"1\" class=\"dataframe\">\n",
       "  <thead>\n",
       "    <tr style=\"text-align: right;\">\n",
       "      <th></th>\n",
       "      <th>id</th>\n",
       "      <th>prompt_id</th>\n",
       "      <th>text</th>\n",
       "      <th>generated</th>\n",
       "    </tr>\n",
       "  </thead>\n",
       "  <tbody>\n",
       "    <tr>\n",
       "      <th>1472</th>\n",
       "      <td>C8620D9D22DC</td>\n",
       "      <td>1475</td>\n",
       "      <td>Having students of different ages in the same ...</td>\n",
       "      <td>1</td>\n",
       "    </tr>\n",
       "    <tr>\n",
       "      <th>1776</th>\n",
       "      <td>D8D84A2E4CE0</td>\n",
       "      <td>1779</td>\n",
       "      <td>After researching examples of successful group...</td>\n",
       "      <td>1</td>\n",
       "    </tr>\n",
       "    <tr>\n",
       "      <th>1886</th>\n",
       "      <td>DD279F25DC1F</td>\n",
       "      <td>1889</td>\n",
       "      <td>For many students and teachers, a four-day sch...</td>\n",
       "      <td>1</td>\n",
       "    </tr>\n",
       "    <tr>\n",
       "      <th>73</th>\n",
       "      <td>6574B5B58A11</td>\n",
       "      <td>76</td>\n",
       "      <td>Delve into what motivates you to take action, ...</td>\n",
       "      <td>1</td>\n",
       "    </tr>\n",
       "    <tr>\n",
       "      <th>744</th>\n",
       "      <td>87901eed</td>\n",
       "      <td>1</td>\n",
       "      <td>Dear Senator, If one could sum up the definiti...</td>\n",
       "      <td>0</td>\n",
       "    </tr>\n",
       "    <tr>\n",
       "      <th>...</th>\n",
       "      <td>...</td>\n",
       "      <td>...</td>\n",
       "      <td>...</td>\n",
       "      <td>...</td>\n",
       "    </tr>\n",
       "    <tr>\n",
       "      <th>226</th>\n",
       "      <td>722C353F2831</td>\n",
       "      <td>229</td>\n",
       "      <td>Honesty is a fundamental part of any healthy r...</td>\n",
       "      <td>1</td>\n",
       "    </tr>\n",
       "    <tr>\n",
       "      <th>1178</th>\n",
       "      <td>da14ac70</td>\n",
       "      <td>1</td>\n",
       "      <td>Dear Senator, As you may know, there is a huge...</td>\n",
       "      <td>0</td>\n",
       "    </tr>\n",
       "    <tr>\n",
       "      <th>459</th>\n",
       "      <td>5b1c86a2</td>\n",
       "      <td>1</td>\n",
       "      <td>The electoral collage should be disbanded. Not...</td>\n",
       "      <td>0</td>\n",
       "    </tr>\n",
       "    <tr>\n",
       "      <th>1586</th>\n",
       "      <td>CE7E3C75BAF8</td>\n",
       "      <td>1589</td>\n",
       "      <td>First impressions often form the basis for how...</td>\n",
       "      <td>1</td>\n",
       "    </tr>\n",
       "    <tr>\n",
       "      <th>1354</th>\n",
       "      <td>C15EC5707409</td>\n",
       "      <td>1357</td>\n",
       "      <td>The prospect of implementing a four-day school...</td>\n",
       "      <td>1</td>\n",
       "    </tr>\n",
       "  </tbody>\n",
       "</table>\n",
       "<p>3799 rows × 4 columns</p>\n",
       "</div>"
      ],
      "text/plain": [
       "                id  prompt_id  \\\n",
       "1472  C8620D9D22DC       1475   \n",
       "1776  D8D84A2E4CE0       1779   \n",
       "1886  DD279F25DC1F       1889   \n",
       "73    6574B5B58A11         76   \n",
       "744       87901eed          1   \n",
       "...            ...        ...   \n",
       "226   722C353F2831        229   \n",
       "1178      da14ac70          1   \n",
       "459       5b1c86a2          1   \n",
       "1586  CE7E3C75BAF8       1589   \n",
       "1354  C15EC5707409       1357   \n",
       "\n",
       "                                                   text  generated  \n",
       "1472  Having students of different ages in the same ...          1  \n",
       "1776  After researching examples of successful group...          1  \n",
       "1886  For many students and teachers, a four-day sch...          1  \n",
       "73    Delve into what motivates you to take action, ...          1  \n",
       "744   Dear Senator, If one could sum up the definiti...          0  \n",
       "...                                                 ...        ...  \n",
       "226   Honesty is a fundamental part of any healthy r...          1  \n",
       "1178  Dear Senator, As you may know, there is a huge...          0  \n",
       "459   The electoral collage should be disbanded. Not...          0  \n",
       "1586  First impressions often form the basis for how...          1  \n",
       "1354  The prospect of implementing a four-day school...          1  \n",
       "\n",
       "[3799 rows x 4 columns]"
      ]
     },
     "execution_count": 41,
     "metadata": {},
     "output_type": "execute_result"
    }
   ],
   "source": [
    "combined_datasets"
   ]
  },
  {
   "cell_type": "code",
   "execution_count": 28,
   "id": "638c8ff0-eb46-473f-b362-dcc0cfee00b9",
   "metadata": {},
   "outputs": [],
   "source": [
    "combined_datasets.to_csv('./DATA/MASTER DATA/master_train_data.csv')"
   ]
  }
 ],
 "metadata": {
  "kernelspec": {
   "display_name": "Python 3 (ipykernel)",
   "language": "python",
   "name": "python3"
  },
  "language_info": {
   "codemirror_mode": {
    "name": "ipython",
    "version": 3
   },
   "file_extension": ".py",
   "mimetype": "text/x-python",
   "name": "python",
   "nbconvert_exporter": "python",
   "pygments_lexer": "ipython3",
   "version": "3.12.0"
  }
 },
 "nbformat": 4,
 "nbformat_minor": 5
}
