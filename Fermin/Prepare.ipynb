{
 "cells": [
  {
   "cell_type": "code",
   "execution_count": 16,
   "id": "d6b3ad67-a1c4-4d23-8e1c-c418bfe3d395",
   "metadata": {},
   "outputs": [],
   "source": [
    "import pandas as pd\n",
    "import numpy as np\n",
    "from nltk.tokenize import wordpunct_tokenize\n",
    "pd.options.mode.chained_assignment = None  "
   ]
  },
  {
   "cell_type": "code",
   "execution_count": 17,
   "id": "aa61fa0f-6dba-4e3c-a90f-c942624ab5ba",
   "metadata": {},
   "outputs": [],
   "source": [
    "data = pd.read_csv('../DATA/Master Data/master_train_data.csv', index_col=0).reset_index(drop=True)"
   ]
  },
  {
   "cell_type": "code",
   "execution_count": 18,
   "id": "32b6f61f-69ca-4bab-947f-965ca3dbd703",
   "metadata": {},
   "outputs": [],
   "source": [
    "data.text.replace(r\"[^A-Za-z0-9'\\s]\", '', regex=True, inplace=True)"
   ]
  },
  {
   "cell_type": "code",
   "execution_count": 19,
   "id": "86e20479-e66d-424a-a054-f83b73e048fc",
   "metadata": {},
   "outputs": [],
   "source": [
    "data.drop(columns=['id','prompt_id'], inplace=True)"
   ]
  },
  {
   "cell_type": "code",
   "execution_count": 20,
   "id": "ba20385f-5bdb-43e8-b3cd-ee2f873d6731",
   "metadata": {},
   "outputs": [
    {
     "data": {
      "text/plain": [
       "0       Having students of different ages in the same ...\n",
       "1       After researching examples of successful group...\n",
       "2       For many students and teachers a fourday schoo...\n",
       "3       Delve into what motivates you to take action a...\n",
       "4       Dear Senator If one could sum up the definitio...\n",
       "                              ...                        \n",
       "3794    Honesty is a fundamental part of any healthy r...\n",
       "3795    Dear Senator As you may know there is a huge d...\n",
       "3796    The electoral collage should be disbanded Not ...\n",
       "3797    First impressions often form the basis for how...\n",
       "3798    The prospect of implementing a fourday school ...\n",
       "Name: text, Length: 3799, dtype: object"
      ]
     },
     "execution_count": 20,
     "metadata": {},
     "output_type": "execute_result"
    }
   ],
   "source": [
    "data.text"
   ]
  },
  {
   "cell_type": "code",
   "execution_count": 21,
   "id": "6d0383ff-006c-4c53-980e-fb45ac730034",
   "metadata": {},
   "outputs": [],
   "source": [
    "tokenizer = wordpunct_tokenize"
   ]
  },
  {
   "cell_type": "code",
   "execution_count": 22,
   "id": "d3b9fa5a-c434-4b16-9111-718e84577eea",
   "metadata": {},
   "outputs": [
    {
     "name": "stderr",
     "output_type": "stream",
     "text": [
      "[nltk_data] Downloading package averaged_perceptron_tagger to\n",
      "[nltk_data]     C:\\Users\\fermi\\AppData\\Roaming\\nltk_data...\n",
      "[nltk_data]   Package averaged_perceptron_tagger is already up-to-\n",
      "[nltk_data]       date!\n"
     ]
    },
    {
     "data": {
      "text/plain": [
       "True"
      ]
     },
     "execution_count": 22,
     "metadata": {},
     "output_type": "execute_result"
    }
   ],
   "source": [
    "import nltk as nltk\n",
    "from nltk import pos_tag\n",
    "nltk.download('averaged_perceptron_tagger')"
   ]
  },
  {
   "cell_type": "code",
   "execution_count": 23,
   "id": "9632f707-b52d-40f2-9a32-19b19a89d698",
   "metadata": {
    "scrolled": true
   },
   "outputs": [],
   "source": [
    "tokenized_words_list = list()\n",
    "for text in data.text:\n",
    "    tokenized_words_list.append(tokenizer(text))"
   ]
  },
  {
   "cell_type": "code",
   "execution_count": 24,
   "id": "66c5fde0-cb15-4a97-8990-6862b3955296",
   "metadata": {},
   "outputs": [],
   "source": [
    "data.text = tokenized_words_list"
   ]
  },
  {
   "cell_type": "markdown",
   "id": "bb35535b-fae7-41fe-ba26-78a04f2c2588",
   "metadata": {},
   "source": [
    "## Stemmer"
   ]
  },
  {
   "cell_type": "code",
   "execution_count": 25,
   "id": "f5156bab-71a6-4ec9-94ab-6195af42eebc",
   "metadata": {},
   "outputs": [],
   "source": [
    "from nltk.stem.porter import PorterStemmer\n",
    "ps= PorterStemmer()"
   ]
  },
  {
   "cell_type": "code",
   "execution_count": 26,
   "id": "2987cb90-dee6-4cbe-887f-902071a2f5f0",
   "metadata": {
    "scrolled": true
   },
   "outputs": [],
   "source": [
    "for i,words in enumerate(data.text.copy()):\n",
    "    # print(ps.stem(words))\n",
    "    data['text'][i] = [ps.stem(w) for w in words]\n",
    "    \n",
    "    "
   ]
  },
  {
   "cell_type": "code",
   "execution_count": 27,
   "id": "1d611c9b-6a9b-4d19-8000-a3aa1bf4461e",
   "metadata": {},
   "outputs": [],
   "source": [
    "# data.to_csv('./Checkpoint/data_stemmed.csv')"
   ]
  },
  {
   "cell_type": "code",
   "execution_count": 28,
   "id": "e6b5f9b7-8aa1-4544-a19f-d1b24dea6c5e",
   "metadata": {},
   "outputs": [],
   "source": [
    "# pos_tag(data.text[0])\n",
    "for i,words in enumerate(data.text):\n",
    "    data.text[i] = pos_tag(words)\n",
    "    "
   ]
  },
  {
   "cell_type": "code",
   "execution_count": 29,
   "id": "75a3b523-9fac-429f-b4c0-967acb9e0ba6",
   "metadata": {},
   "outputs": [
    {
     "data": {
      "text/html": [
       "<div>\n",
       "<style scoped>\n",
       "    .dataframe tbody tr th:only-of-type {\n",
       "        vertical-align: middle;\n",
       "    }\n",
       "\n",
       "    .dataframe tbody tr th {\n",
       "        vertical-align: top;\n",
       "    }\n",
       "\n",
       "    .dataframe thead th {\n",
       "        text-align: right;\n",
       "    }\n",
       "</style>\n",
       "<table border=\"1\" class=\"dataframe\">\n",
       "  <thead>\n",
       "    <tr style=\"text-align: right;\">\n",
       "      <th></th>\n",
       "      <th>text</th>\n",
       "      <th>generated</th>\n",
       "    </tr>\n",
       "  </thead>\n",
       "  <tbody>\n",
       "    <tr>\n",
       "      <th>0</th>\n",
       "      <td>[(have, VB), (student, NN), (of, IN), (differ,...</td>\n",
       "      <td>1</td>\n",
       "    </tr>\n",
       "    <tr>\n",
       "      <th>1</th>\n",
       "      <td>[(after, IN), (research, NN), (exampl, NN), (o...</td>\n",
       "      <td>1</td>\n",
       "    </tr>\n",
       "    <tr>\n",
       "      <th>2</th>\n",
       "      <td>[(for, IN), (mani, JJ), (student, NN), (and, C...</td>\n",
       "      <td>1</td>\n",
       "    </tr>\n",
       "    <tr>\n",
       "      <th>3</th>\n",
       "      <td>[(delv, NN), (into, IN), (what, WP), (motiv, N...</td>\n",
       "      <td>1</td>\n",
       "    </tr>\n",
       "    <tr>\n",
       "      <th>4</th>\n",
       "      <td>[(dear, JJ), (senat, NN), (if, IN), (one, CD),...</td>\n",
       "      <td>0</td>\n",
       "    </tr>\n",
       "  </tbody>\n",
       "</table>\n",
       "</div>"
      ],
      "text/plain": [
       "                                                text  generated\n",
       "0  [(have, VB), (student, NN), (of, IN), (differ,...          1\n",
       "1  [(after, IN), (research, NN), (exampl, NN), (o...          1\n",
       "2  [(for, IN), (mani, JJ), (student, NN), (and, C...          1\n",
       "3  [(delv, NN), (into, IN), (what, WP), (motiv, N...          1\n",
       "4  [(dear, JJ), (senat, NN), (if, IN), (one, CD),...          0"
      ]
     },
     "execution_count": 29,
     "metadata": {},
     "output_type": "execute_result"
    }
   ],
   "source": [
    "data.head()"
   ]
  },
  {
   "cell_type": "code",
   "execution_count": 30,
   "id": "a04dc52e-db72-4c7e-a89e-8e1c1a1c6ec3",
   "metadata": {},
   "outputs": [],
   "source": [
    "data.to_csv('./Checkpoint/text_pos_tagged.csv')\n"
   ]
  }
 ],
 "metadata": {
  "kernelspec": {
   "display_name": "Python 3 (ipykernel)",
   "language": "python",
   "name": "python3"
  },
  "language_info": {
   "codemirror_mode": {
    "name": "ipython",
    "version": 3
   },
   "file_extension": ".py",
   "mimetype": "text/x-python",
   "name": "python",
   "nbconvert_exporter": "python",
   "pygments_lexer": "ipython3",
   "version": "3.12.0"
  }
 },
 "nbformat": 4,
 "nbformat_minor": 5
}
