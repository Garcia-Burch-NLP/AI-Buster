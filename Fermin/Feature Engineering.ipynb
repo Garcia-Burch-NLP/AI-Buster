{
 "cells": [
  {
   "cell_type": "code",
   "execution_count": 1,
   "id": "16e36ec2-8029-496e-8594-27614ab45e07",
   "metadata": {},
   "outputs": [],
   "source": [
    "import pandas as pd\n",
    "import numpy as np \n",
    "pd.options.mode.chained_assignment = None  "
   ]
  },
  {
   "cell_type": "code",
   "execution_count": 2,
   "id": "6513d653-d2fa-48b4-8961-4d484c706129",
   "metadata": {},
   "outputs": [],
   "source": [
    "data = pd.read_csv('Checkpoint/text_pos_tagged.csv',index_col=0)"
   ]
  },
  {
   "cell_type": "code",
   "execution_count": 3,
   "id": "530dad15-b95d-4726-95a2-05168167b31a",
   "metadata": {},
   "outputs": [],
   "source": [
    "import ast\n",
    "\n",
    "\n",
    "for i,text in enumerate(data.text):\n",
    "    data['text'][i] = ast.literal_eval(data.text[i])\n",
    "\n",
    "# Here we are converting the columns from strings to a list to work with the inside tuples.\n",
    "\n",
    "\n"
   ]
  },
  {
   "cell_type": "code",
   "execution_count": 4,
   "id": "1bed0906-591e-4735-b60e-11cb002c8e76",
   "metadata": {
    "scrolled": true
   },
   "outputs": [],
   "source": [
    "from operator import itemgetter\n",
    "\n",
    "# Here we are pulling just the POS tag from the tuple\n",
    "text_post = dict()\n",
    "for i,text in enumerate(data.text):\n",
    "    text_post[int(i)] = list(map(itemgetter(1), data.text[i]))\n",
    "\n",
    "\n",
    "\n",
    "\n"
   ]
  },
  {
   "cell_type": "code",
   "execution_count": 5,
   "id": "84df56c2-cca8-4131-b403-6b881e11ebac",
   "metadata": {
    "scrolled": true
   },
   "outputs": [
    {
     "data": {
      "text/plain": [
       "True"
      ]
     },
     "execution_count": 5,
     "metadata": {},
     "output_type": "execute_result"
    }
   ],
   "source": [
    "# Ensure the math... maths\n",
    "len(text_post) == len(data)"
   ]
  },
  {
   "cell_type": "code",
   "execution_count": 6,
   "id": "79db6f50-7f65-4e5e-a9a0-4f1e9d4cdb9f",
   "metadata": {},
   "outputs": [],
   "source": [
    "# Getting the pos tags in their own columns\n",
    "\n",
    "parts_of_speech_df = pd.DataFrame()\n",
    "parts_of_speech_df = pd.DataFrame(pd.Series(text_post.values()))\n",
    "parts_of_speech_df.columns = ['part_of_speech_tags_in_order',]\n",
    "merged_data = data.merge(parts_of_speech_df, how='left',left_index=True,right_index=True )"
   ]
  },
  {
   "cell_type": "code",
   "execution_count": 7,
   "id": "faabc118-b8fa-4d43-8102-e0bb5c4c4fc3",
   "metadata": {},
   "outputs": [],
   "source": [
    "# Merged data is the the pos tagged in order and our original dataset.\n",
    "\n",
    "\n",
    "# Make A new dict to hold value count outputs.\n",
    "vc_dict = dict()\n",
    "# Make a new data frame to contain the value counts.\n",
    "value_count_df = pd.DataFrame()\n",
    "# Tags- the index of the value counts\n",
    "for tags in np.arange(len(merged_data)):\n",
    "    # Here we are assigning the data frame into our vc_dict or value count dictionary.\n",
    "    vc_dict[int(tags)] = pd.DataFrame(merged_data['part_of_speech_tags_in_order'][tags]).value_counts()"
   ]
  },
  {
   "cell_type": "code",
   "execution_count": 8,
   "id": "ba2a3394-b2ff-4de1-9c7b-d3e20332de29",
   "metadata": {},
   "outputs": [
    {
     "data": {
      "text/plain": [
       "True"
      ]
     },
     "execution_count": 8,
     "metadata": {},
     "output_type": "execute_result"
    }
   ],
   "source": [
    "# Math still mathing\n",
    "len(vc_dict) == len(data)"
   ]
  },
  {
   "cell_type": "code",
   "execution_count": 9,
   "id": "1320d6a6-47d2-4ff9-b96b-d3540d1aa9ab",
   "metadata": {},
   "outputs": [],
   "source": [
    "# make a new dataframe to help all the value counts\n",
    "value_counts_all_df = pd.DataFrame()"
   ]
  },
  {
   "cell_type": "code",
   "execution_count": 10,
   "id": "08b04f0f-bb73-436f-ab8a-09afebd67796",
   "metadata": {},
   "outputs": [],
   "source": [
    "# Set the new index for the new dataframe\n",
    "new_index = np.arange(0,int(len(vc_dict)))"
   ]
  },
  {
   "cell_type": "code",
   "execution_count": 11,
   "id": "c4952546-1c0f-4836-b8ee-c011628f94b9",
   "metadata": {},
   "outputs": [],
   "source": [
    "# Set the index of the data frame for the merger of our data \n",
    "value_counts_all_df.index = new_index"
   ]
  },
  {
   "cell_type": "code",
   "execution_count": 12,
   "id": "285818ca-29f5-4a7e-b693-b1a1bc6a376d",
   "metadata": {
    "scrolled": true
   },
   "outputs": [
    {
     "ename": "SyntaxError",
     "evalue": "invalid syntax (605517727.py, line 2)",
     "output_type": "error",
     "traceback": [
      "\u001b[1;36m  Cell \u001b[1;32mIn[12], line 2\u001b[1;36m\u001b[0m\n\u001b[1;33m    for keys,\u001b[0m\n\u001b[1;37m             ^\u001b[0m\n\u001b[1;31mSyntaxError\u001b[0m\u001b[1;31m:\u001b[0m invalid syntax\n"
     ]
    }
   ],
   "source": [
    "value_count_index_list = list()\n",
    "for keys,\n"
   ]
  },
  {
   "cell_type": "code",
   "execution_count": 14,
   "id": "0e8f1447-0933-45a9-a60c-574b65c714ac",
   "metadata": {
    "tags": []
   },
   "outputs": [
    {
     "data": {
      "text/html": [
       "<div>\n",
       "<style scoped>\n",
       "    .dataframe tbody tr th:only-of-type {\n",
       "        vertical-align: middle;\n",
       "    }\n",
       "\n",
       "    .dataframe tbody tr th {\n",
       "        vertical-align: top;\n",
       "    }\n",
       "\n",
       "    .dataframe thead th {\n",
       "        text-align: right;\n",
       "    }\n",
       "</style>\n",
       "<table border=\"1\" class=\"dataframe\">\n",
       "  <thead>\n",
       "    <tr style=\"text-align: right;\">\n",
       "      <th></th>\n",
       "    </tr>\n",
       "  </thead>\n",
       "  <tbody>\n",
       "    <tr>\n",
       "      <th>0</th>\n",
       "    </tr>\n",
       "    <tr>\n",
       "      <th>1</th>\n",
       "    </tr>\n",
       "    <tr>\n",
       "      <th>2</th>\n",
       "    </tr>\n",
       "    <tr>\n",
       "      <th>3</th>\n",
       "    </tr>\n",
       "    <tr>\n",
       "      <th>4</th>\n",
       "    </tr>\n",
       "    <tr>\n",
       "      <th>...</th>\n",
       "    </tr>\n",
       "    <tr>\n",
       "      <th>3794</th>\n",
       "    </tr>\n",
       "    <tr>\n",
       "      <th>3795</th>\n",
       "    </tr>\n",
       "    <tr>\n",
       "      <th>3796</th>\n",
       "    </tr>\n",
       "    <tr>\n",
       "      <th>3797</th>\n",
       "    </tr>\n",
       "    <tr>\n",
       "      <th>3798</th>\n",
       "    </tr>\n",
       "  </tbody>\n",
       "</table>\n",
       "<p>3799 rows × 0 columns</p>\n",
       "</div>"
      ],
      "text/plain": [
       "Empty DataFrame\n",
       "Columns: []\n",
       "Index: [0, 1, 2, 3, 4, 5, 6, 7, 8, 9, 10, 11, 12, 13, 14, 15, 16, 17, 18, 19, 20, 21, 22, 23, 24, 25, 26, 27, 28, 29, 30, 31, 32, 33, 34, 35, 36, 37, 38, 39, 40, 41, 42, 43, 44, 45, 46, 47, 48, 49, 50, 51, 52, 53, 54, 55, 56, 57, 58, 59, 60, 61, 62, 63, 64, 65, 66, 67, 68, 69, 70, 71, 72, 73, 74, 75, 76, 77, 78, 79, 80, 81, 82, 83, 84, 85, 86, 87, 88, 89, 90, 91, 92, 93, 94, 95, 96, 97, 98, 99, ...]\n",
       "\n",
       "[3799 rows x 0 columns]"
      ]
     },
     "execution_count": 14,
     "metadata": {},
     "output_type": "execute_result"
    }
   ],
   "source": [
    "new_index"
   ]
  },
  {
   "cell_type": "code",
   "execution_count": null,
   "id": "0a6ea8cb-a3f5-4701-967b-1b9edfff8d64",
   "metadata": {},
   "outputs": [],
   "source": []
  },
  {
   "cell_type": "code",
   "execution_count": null,
   "id": "610ffef7-e54b-485f-b000-5cb5ae165df6",
   "metadata": {},
   "outputs": [],
   "source": []
  },
  {
   "cell_type": "code",
   "execution_count": null,
   "id": "fb417b3f-4fc2-4b5e-8554-850adba557dd",
   "metadata": {},
   "outputs": [],
   "source": []
  },
  {
   "cell_type": "code",
   "execution_count": null,
   "id": "74b5ccb2-36d2-462c-a927-2426e5a4ba26",
   "metadata": {},
   "outputs": [],
   "source": [
    "merged_data_frame = pd.merge(data, how='left', on=vc_df.index, right=vc_df)\n",
    "# merged_data_frame.drop(column='key_0')\n",
    "merged_data_frame.head()"
   ]
  },
  {
   "cell_type": "code",
   "execution_count": null,
   "id": "da7c8828-4b86-4beb-b3b5-c222f4a485ea",
   "metadata": {},
   "outputs": [],
   "source": [
    "merged_data_frame = pd.merge(data, how='left', on=vc_df.index, right=vc_df)\n",
    "# merged_data_frame.drop(column='key_0')\n",
    "# merged_data_frame.head()"
   ]
  },
  {
   "cell_type": "code",
   "execution_count": null,
   "id": "028122ac-f47d-4e4d-9a4a-1b81eb2d86f8",
   "metadata": {},
   "outputs": [],
   "source": [
    "COLUMN_ORDER = [\n",
    "    'text',\n",
    "    'NN',\n",
    "    'DT',\n",
    "    'VB',\n",
    "    'IN',\n",
    "    'JJR',\n",
    "    'CC',\n",
    "    'JJ',\n",
    "    'TO',\n",
    "    'MD',\n",
    "    'PRP$',\n",
    "    'VBZ',\n",
    "    'PRP',\n",
    "    'VBN',\n",
    "    'WP',\n",
    "    'RB',\n",
    "    'RP',\n",
    "    'VBP',\n",
    "    'generated',\n",
    "    ]"
   ]
  },
  {
   "cell_type": "code",
   "execution_count": null,
   "id": "be98d223-73d9-4bd8-870f-5cf508ba7657",
   "metadata": {},
   "outputs": [],
   "source": [
    "ordered_merged_data_frame = merged_data_frame[COLUMN_ORDER]"
   ]
  },
  {
   "cell_type": "code",
   "execution_count": null,
   "id": "7669200f-89c9-41ed-977a-1d885d87b921",
   "metadata": {},
   "outputs": [],
   "source": [
    "pd.Series(ordered_merged_data_frame[['text','JJR']].text[1])"
   ]
  },
  {
   "cell_type": "code",
   "execution_count": null,
   "id": "f6f7d514-cb4c-4be1-b073-9be3bc3a40dd",
   "metadata": {},
   "outputs": [],
   "source": [
    "ordered_merged_data_frame.fillna()\n",
    "    \n",
    "    "
   ]
  },
  {
   "cell_type": "code",
   "execution_count": null,
   "id": "06866cb4-d2ed-4a63-895e-65c00c7d2bd0",
   "metadata": {},
   "outputs": [],
   "source": [
    "ordered_merged_data_frame"
   ]
  },
  {
   "cell_type": "code",
   "execution_count": null,
   "id": "f5a1a48f-831d-47bd-a6f8-881939db752f",
   "metadata": {},
   "outputs": [],
   "source": [
    "apos_valueCount = pos_series.value_counts().to_list()"
   ]
  },
  {
   "cell_type": "code",
   "execution_count": null,
   "id": "a88f0e2c-b85a-44b6-8e3a-8094e282d375",
   "metadata": {},
   "outputs": [],
   "source": [
    "new_columns = list(map(itemgetter(0), pos_series.value_counts().index[0:].to_list()))"
   ]
  },
  {
   "cell_type": "code",
   "execution_count": null,
   "id": "b401aa30-2bea-4686-8483-db9f68fc411a",
   "metadata": {
    "tags": []
   },
   "outputs": [],
   "source": [
    "pd.DataFrame(pos_series.value_counts())"
   ]
  }
 ],
 "metadata": {
  "kernelspec": {
   "display_name": "Python 3 (ipykernel)",
   "language": "python",
   "name": "python3"
  },
  "language_info": {
   "codemirror_mode": {
    "name": "ipython",
    "version": 3
   },
   "file_extension": ".py",
   "mimetype": "text/x-python",
   "name": "python",
   "nbconvert_exporter": "python",
   "pygments_lexer": "ipython3",
   "version": "3.11.3"
  }
 },
 "nbformat": 4,
 "nbformat_minor": 5
}
